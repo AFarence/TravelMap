{
 "cells": [
  {
   "cell_type": "code",
   "execution_count": 48,
   "metadata": {},
   "outputs": [],
   "source": [
    "from geopy.geocoders import GoogleV3\n",
    "import numpy as np\n",
    "import geocoder\n",
    "import json\n",
    "import pandas as pd\n",
    "from geojson import Feature, FeatureCollection, Point"
   ]
  },
  {
   "cell_type": "code",
   "execution_count": 49,
   "metadata": {},
   "outputs": [],
   "source": [
    "data = {'location':['Boulder Colorado','Lancaster, Pa.','Cadair Idris - Penygadair, Dolgellau, UK','Fairbourne, UK','Elan Valley Reservoirs, Rhayader, UK','Snowdonia National Park, Penrhyndeudraeth, UK','Llyswen, Brecon, UK','Black Mountains, Wales, Abergavenny, UK','Kennedy Space Center, Florida'],\n",
    "       'label':['A place to visit','There\\'s good dancing here','Scenic gentle hiking and camping','A secret place that\\'s been forgotten','Where you and James & got engaged','What sounds like a wonderful place to visit','Your current home','Beautiful background scenery','A major science center']}\n",
    "\n",
    "df = pd.DataFrame(data)"
   ]
  },
  {
   "cell_type": "code",
   "execution_count": 50,
   "metadata": {},
   "outputs": [],
   "source": [
    "%store -r google_maps_API_Key\n",
    "geolocator = GoogleV3(api_key=google_maps_API_Key)"
   ]
  },
  {
   "cell_type": "code",
   "execution_count": 51,
   "metadata": {},
   "outputs": [],
   "source": [
    "df['loc'] = df['location'].apply(geolocator.geocode, timeout=10)"
   ]
  },
  {
   "cell_type": "code",
   "execution_count": 52,
   "metadata": {},
   "outputs": [
    {
     "data": {
      "text/plain": [
       "0       (Boulder, CO, USA, (40.0149856, -105.2705456))\n",
       "1      (Lancaster, PA, USA, (40.0378755, -76.3055144))\n",
       "2    (Cadair Idris - Penygadair, Dolgellau LL40 1TL...\n",
       "3    (Fairbourne LL38 2EJ, UK, (52.696651, -4.054346))\n",
       "4    (Elan Valley Reservoirs, Rhayader LD6 5HF, UK,...\n",
       "5    (Snowdonia National Park, Penrhyndeudraeth LL4...\n",
       "6    (Llyswen, Brecon LD3 0UY, UK, (52.033179999999...\n",
       "7    (Black Mountains, Wales, Abergavenny NP7 7NP, ...\n",
       "8    (Florida 32899, USA, (28.5728722, -80.64898079...\n",
       "Name: loc, dtype: object"
      ]
     },
     "execution_count": 52,
     "metadata": {},
     "output_type": "execute_result"
    }
   ],
   "source": [
    "df['loc']"
   ]
  },
  {
   "cell_type": "code",
   "execution_count": 53,
   "metadata": {},
   "outputs": [],
   "source": [
    "df['point'] = df['loc'].apply(lambda loc: tuple(loc.point) if loc else None)"
   ]
  },
  {
   "cell_type": "markdown",
   "metadata": {},
   "source": [
    "Columns must be same length as key explained\n",
    "- https://cumsum.wordpress.com/2021/06/01/pandas-valueerror-columns-must-be-same-length-as-key/\n",
    "\n",
    "Creating `df2` based on `df` row indicies.\n",
    "\n",
    "https://datascience.stackexchange.com/questions/77033/creating-a-new-dataframe-with-specific-row-numbers-from-another\n",
    "\n",
    "What's tripping this error is when the lat/lon/alititude generator is fed a Nan value to parse - it's effectively trying to split a `null` value into three separate parts - which is impossible.\n",
    "\n",
    "The code below effectively caputres the anatomy of this error. It creates a new `df` based on a list of indicies from an existing one. Row `56` has no `point` since the `geocoder` couldn't find coordinates for it. The other three do. Splitting the `point` column fails only when row `56` - with `null` values - is attempted.\n",
    "```\n",
    "df2 = df.iloc[[56,57,58,59],:]\n",
    "df2[['lat','lon','altitude']] = pd.DataFrame(df2['point'].to_list(),index=df2.index)\n",
    "```"
   ]
  },
  {
   "cell_type": "code",
   "execution_count": 54,
   "metadata": {},
   "outputs": [
    {
     "data": {
      "text/html": [
       "<div>\n",
       "<style scoped>\n",
       "    .dataframe tbody tr th:only-of-type {\n",
       "        vertical-align: middle;\n",
       "    }\n",
       "\n",
       "    .dataframe tbody tr th {\n",
       "        vertical-align: top;\n",
       "    }\n",
       "\n",
       "    .dataframe thead th {\n",
       "        text-align: right;\n",
       "    }\n",
       "</style>\n",
       "<table border=\"1\" class=\"dataframe\">\n",
       "  <thead>\n",
       "    <tr style=\"text-align: right;\">\n",
       "      <th></th>\n",
       "      <th>location</th>\n",
       "      <th>label</th>\n",
       "      <th>loc</th>\n",
       "      <th>point</th>\n",
       "      <th>lat</th>\n",
       "      <th>lon</th>\n",
       "      <th>altitude</th>\n",
       "    </tr>\n",
       "  </thead>\n",
       "  <tbody>\n",
       "    <tr>\n",
       "      <th>0</th>\n",
       "      <td>Boulder Colorado</td>\n",
       "      <td>A place to visit</td>\n",
       "      <td>(Boulder, CO, USA, (40.0149856, -105.2705456))</td>\n",
       "      <td>(40.0149856, -105.2705456, 0.0)</td>\n",
       "      <td>40.014986</td>\n",
       "      <td>-105.270546</td>\n",
       "      <td>0.0</td>\n",
       "    </tr>\n",
       "    <tr>\n",
       "      <th>1</th>\n",
       "      <td>Lancaster, Pa.</td>\n",
       "      <td>There's good dancing here</td>\n",
       "      <td>(Lancaster, PA, USA, (40.0378755, -76.3055144))</td>\n",
       "      <td>(40.0378755, -76.3055144, 0.0)</td>\n",
       "      <td>40.037875</td>\n",
       "      <td>-76.305514</td>\n",
       "      <td>0.0</td>\n",
       "    </tr>\n",
       "    <tr>\n",
       "      <th>2</th>\n",
       "      <td>Cadair Idris - Penygadair, Dolgellau, UK</td>\n",
       "      <td>Scenic gentle hiking and camping</td>\n",
       "      <td>(Cadair Idris - Penygadair, Dolgellau LL40 1TL...</td>\n",
       "      <td>(52.6996388, -3.9088055, 0.0)</td>\n",
       "      <td>52.699639</td>\n",
       "      <td>-3.908806</td>\n",
       "      <td>0.0</td>\n",
       "    </tr>\n",
       "    <tr>\n",
       "      <th>3</th>\n",
       "      <td>Fairbourne, UK</td>\n",
       "      <td>A secret place that's been forgotten</td>\n",
       "      <td>(Fairbourne LL38 2EJ, UK, (52.696651, -4.054346))</td>\n",
       "      <td>(52.696651, -4.054346, 0.0)</td>\n",
       "      <td>52.696651</td>\n",
       "      <td>-4.054346</td>\n",
       "      <td>0.0</td>\n",
       "    </tr>\n",
       "    <tr>\n",
       "      <th>4</th>\n",
       "      <td>Elan Valley Reservoirs, Rhayader, UK</td>\n",
       "      <td>Where you and James &amp; got engaged</td>\n",
       "      <td>(Elan Valley Reservoirs, Rhayader LD6 5HF, UK,...</td>\n",
       "      <td>(52.272222, -3.688889, 0.0)</td>\n",
       "      <td>52.272222</td>\n",
       "      <td>-3.688889</td>\n",
       "      <td>0.0</td>\n",
       "    </tr>\n",
       "    <tr>\n",
       "      <th>5</th>\n",
       "      <td>Snowdonia National Park, Penrhyndeudraeth, UK</td>\n",
       "      <td>What sounds like a wonderful place to visit</td>\n",
       "      <td>(Snowdonia National Park, Penrhyndeudraeth LL4...</td>\n",
       "      <td>(53.0932155, -3.801704, 0.0)</td>\n",
       "      <td>53.093215</td>\n",
       "      <td>-3.801704</td>\n",
       "      <td>0.0</td>\n",
       "    </tr>\n",
       "    <tr>\n",
       "      <th>6</th>\n",
       "      <td>Llyswen, Brecon, UK</td>\n",
       "      <td>Your current home</td>\n",
       "      <td>(Llyswen, Brecon LD3 0UY, UK, (52.033179999999...</td>\n",
       "      <td>(52.03317999999999, -3.2659789, 0.0)</td>\n",
       "      <td>52.033180</td>\n",
       "      <td>-3.265979</td>\n",
       "      <td>0.0</td>\n",
       "    </tr>\n",
       "    <tr>\n",
       "      <th>7</th>\n",
       "      <td>Black Mountains, Wales, Abergavenny, UK</td>\n",
       "      <td>Beautiful background scenery</td>\n",
       "      <td>(Black Mountains, Wales, Abergavenny NP7 7NP, ...</td>\n",
       "      <td>(51.9666667, -3.1166667, 0.0)</td>\n",
       "      <td>51.966667</td>\n",
       "      <td>-3.116667</td>\n",
       "      <td>0.0</td>\n",
       "    </tr>\n",
       "    <tr>\n",
       "      <th>8</th>\n",
       "      <td>Kennedy Space Center, Florida</td>\n",
       "      <td>A major science center</td>\n",
       "      <td>(Florida 32899, USA, (28.5728722, -80.64898079...</td>\n",
       "      <td>(28.5728722, -80.64898079999999, 0.0)</td>\n",
       "      <td>28.572872</td>\n",
       "      <td>-80.648981</td>\n",
       "      <td>0.0</td>\n",
       "    </tr>\n",
       "  </tbody>\n",
       "</table>\n",
       "</div>"
      ],
      "text/plain": [
       "                                        location  \\\n",
       "0                               Boulder Colorado   \n",
       "1                                 Lancaster, Pa.   \n",
       "2       Cadair Idris - Penygadair, Dolgellau, UK   \n",
       "3                                 Fairbourne, UK   \n",
       "4           Elan Valley Reservoirs, Rhayader, UK   \n",
       "5  Snowdonia National Park, Penrhyndeudraeth, UK   \n",
       "6                            Llyswen, Brecon, UK   \n",
       "7        Black Mountains, Wales, Abergavenny, UK   \n",
       "8                  Kennedy Space Center, Florida   \n",
       "\n",
       "                                         label  \\\n",
       "0                             A place to visit   \n",
       "1                    There's good dancing here   \n",
       "2             Scenic gentle hiking and camping   \n",
       "3         A secret place that's been forgotten   \n",
       "4            Where you and James & got engaged   \n",
       "5  What sounds like a wonderful place to visit   \n",
       "6                            Your current home   \n",
       "7                 Beautiful background scenery   \n",
       "8                       A major science center   \n",
       "\n",
       "                                                 loc  \\\n",
       "0     (Boulder, CO, USA, (40.0149856, -105.2705456))   \n",
       "1    (Lancaster, PA, USA, (40.0378755, -76.3055144))   \n",
       "2  (Cadair Idris - Penygadair, Dolgellau LL40 1TL...   \n",
       "3  (Fairbourne LL38 2EJ, UK, (52.696651, -4.054346))   \n",
       "4  (Elan Valley Reservoirs, Rhayader LD6 5HF, UK,...   \n",
       "5  (Snowdonia National Park, Penrhyndeudraeth LL4...   \n",
       "6  (Llyswen, Brecon LD3 0UY, UK, (52.033179999999...   \n",
       "7  (Black Mountains, Wales, Abergavenny NP7 7NP, ...   \n",
       "8  (Florida 32899, USA, (28.5728722, -80.64898079...   \n",
       "\n",
       "                                   point        lat         lon  altitude  \n",
       "0        (40.0149856, -105.2705456, 0.0)  40.014986 -105.270546       0.0  \n",
       "1         (40.0378755, -76.3055144, 0.0)  40.037875  -76.305514       0.0  \n",
       "2          (52.6996388, -3.9088055, 0.0)  52.699639   -3.908806       0.0  \n",
       "3            (52.696651, -4.054346, 0.0)  52.696651   -4.054346       0.0  \n",
       "4            (52.272222, -3.688889, 0.0)  52.272222   -3.688889       0.0  \n",
       "5           (53.0932155, -3.801704, 0.0)  53.093215   -3.801704       0.0  \n",
       "6   (52.03317999999999, -3.2659789, 0.0)  52.033180   -3.265979       0.0  \n",
       "7          (51.9666667, -3.1166667, 0.0)  51.966667   -3.116667       0.0  \n",
       "8  (28.5728722, -80.64898079999999, 0.0)  28.572872  -80.648981       0.0  "
      ]
     },
     "execution_count": 54,
     "metadata": {},
     "output_type": "execute_result"
    }
   ],
   "source": [
    "df[['lat','lon','altitude']] = pd.DataFrame(df['point'].to_list(),index=df.index)\n",
    "\n",
    "df"
   ]
  },
  {
   "cell_type": "markdown",
   "metadata": {},
   "source": [
    "Folium documentation link: https://python-visualization.github.io/folium/index.html\n",
    "\n",
    "Folium is the library that lets us use leaflet with Python, since it's meant to be used with JavaScript.\n",
    "\n",
    "For adding titles: https://stackoverflow.com/questions/61928013/adding-a-title-or-text-to-a-folium-map"
   ]
  },
  {
   "cell_type": "code",
   "execution_count": 55,
   "metadata": {},
   "outputs": [
    {
     "data": {
      "text/plain": [
       "Index(['location', 'label', 'loc', 'point', 'lat', 'lon', 'altitude'], dtype='object')"
      ]
     },
     "execution_count": 55,
     "metadata": {},
     "output_type": "execute_result"
    }
   ],
   "source": [
    "df.columns"
   ]
  },
  {
   "cell_type": "code",
   "execution_count": 58,
   "metadata": {},
   "outputs": [
    {
     "data": {
      "text/html": [
       "<div style=\"width:100%;\"><div style=\"position:relative;width:100%;height:0;padding-bottom:60%;\"><span style=\"color:#565656\">Make this Notebook Trusted to load map: File -> Trust Notebook</span><iframe src=\"about:blank\" style=\"position:absolute;width:100%;height:100%;left:0;top:0;border:none !important;\" data-html=%3C%21DOCTYPE%20html%3E%0A%3Chead%3E%20%20%20%20%0A%20%20%20%20%3Cmeta%20http-equiv%3D%22content-type%22%20content%3D%22text/html%3B%20charset%3DUTF-8%22%20/%3E%0A%20%20%20%20%0A%20%20%20%20%20%20%20%20%3Cscript%3E%0A%20%20%20%20%20%20%20%20%20%20%20%20L_NO_TOUCH%20%3D%20false%3B%0A%20%20%20%20%20%20%20%20%20%20%20%20L_DISABLE_3D%20%3D%20false%3B%0A%20%20%20%20%20%20%20%20%3C/script%3E%0A%20%20%20%20%0A%20%20%20%20%3Cstyle%3Ehtml%2C%20body%20%7Bwidth%3A%20100%25%3Bheight%3A%20100%25%3Bmargin%3A%200%3Bpadding%3A%200%3B%7D%3C/style%3E%0A%20%20%20%20%3Cstyle%3E%23map%20%7Bposition%3Aabsolute%3Btop%3A0%3Bbottom%3A0%3Bright%3A0%3Bleft%3A0%3B%7D%3C/style%3E%0A%20%20%20%20%3Cscript%20src%3D%22https%3A//cdn.jsdelivr.net/npm/leaflet%401.6.0/dist/leaflet.js%22%3E%3C/script%3E%0A%20%20%20%20%3Cscript%20src%3D%22https%3A//code.jquery.com/jquery-1.12.4.min.js%22%3E%3C/script%3E%0A%20%20%20%20%3Cscript%20src%3D%22https%3A//maxcdn.bootstrapcdn.com/bootstrap/3.2.0/js/bootstrap.min.js%22%3E%3C/script%3E%0A%20%20%20%20%3Cscript%20src%3D%22https%3A//cdnjs.cloudflare.com/ajax/libs/Leaflet.awesome-markers/2.0.2/leaflet.awesome-markers.js%22%3E%3C/script%3E%0A%20%20%20%20%3Clink%20rel%3D%22stylesheet%22%20href%3D%22https%3A//cdn.jsdelivr.net/npm/leaflet%401.6.0/dist/leaflet.css%22/%3E%0A%20%20%20%20%3Clink%20rel%3D%22stylesheet%22%20href%3D%22https%3A//maxcdn.bootstrapcdn.com/bootstrap/3.2.0/css/bootstrap.min.css%22/%3E%0A%20%20%20%20%3Clink%20rel%3D%22stylesheet%22%20href%3D%22https%3A//maxcdn.bootstrapcdn.com/bootstrap/3.2.0/css/bootstrap-theme.min.css%22/%3E%0A%20%20%20%20%3Clink%20rel%3D%22stylesheet%22%20href%3D%22https%3A//maxcdn.bootstrapcdn.com/font-awesome/4.6.3/css/font-awesome.min.css%22/%3E%0A%20%20%20%20%3Clink%20rel%3D%22stylesheet%22%20href%3D%22https%3A//cdnjs.cloudflare.com/ajax/libs/Leaflet.awesome-markers/2.0.2/leaflet.awesome-markers.css%22/%3E%0A%20%20%20%20%3Clink%20rel%3D%22stylesheet%22%20href%3D%22https%3A//cdn.jsdelivr.net/gh/python-visualization/folium/folium/templates/leaflet.awesome.rotate.min.css%22/%3E%0A%20%20%20%20%0A%20%20%20%20%20%20%20%20%20%20%20%20%3Cmeta%20name%3D%22viewport%22%20content%3D%22width%3Ddevice-width%2C%0A%20%20%20%20%20%20%20%20%20%20%20%20%20%20%20%20initial-scale%3D1.0%2C%20maximum-scale%3D1.0%2C%20user-scalable%3Dno%22%20/%3E%0A%20%20%20%20%20%20%20%20%20%20%20%20%3Cstyle%3E%0A%20%20%20%20%20%20%20%20%20%20%20%20%20%20%20%20%23map_9d81a5b389be41c1b44f4723798be1cc%20%7B%0A%20%20%20%20%20%20%20%20%20%20%20%20%20%20%20%20%20%20%20%20position%3A%20relative%3B%0A%20%20%20%20%20%20%20%20%20%20%20%20%20%20%20%20%20%20%20%20width%3A%20100.0%25%3B%0A%20%20%20%20%20%20%20%20%20%20%20%20%20%20%20%20%20%20%20%20height%3A%20100.0%25%3B%0A%20%20%20%20%20%20%20%20%20%20%20%20%20%20%20%20%20%20%20%20left%3A%200.0%25%3B%0A%20%20%20%20%20%20%20%20%20%20%20%20%20%20%20%20%20%20%20%20top%3A%200.0%25%3B%0A%20%20%20%20%20%20%20%20%20%20%20%20%20%20%20%20%7D%0A%20%20%20%20%20%20%20%20%20%20%20%20%3C/style%3E%0A%20%20%20%20%20%20%20%20%0A%20%20%20%20%3Cscript%20src%3D%22https%3A//cdnjs.cloudflare.com/ajax/libs/leaflet.markercluster/1.1.0/leaflet.markercluster.js%22%3E%3C/script%3E%0A%20%20%20%20%3Clink%20rel%3D%22stylesheet%22%20href%3D%22https%3A//cdnjs.cloudflare.com/ajax/libs/leaflet.markercluster/1.1.0/MarkerCluster.css%22/%3E%0A%20%20%20%20%3Clink%20rel%3D%22stylesheet%22%20href%3D%22https%3A//cdnjs.cloudflare.com/ajax/libs/leaflet.markercluster/1.1.0/MarkerCluster.Default.css%22/%3E%0A%3C/head%3E%0A%3Cbody%3E%20%20%20%20%0A%20%20%20%20%0A%20%20%20%20%20%20%20%20%20%20%20%20%20%20%3Ch3%20align%3D%22center%22%20style%3D%22font-size%3A16px%22%3E%3Cb%3ESome%20of%20the%20places%20we%27ve%20talked%20about...%3C/b%3E%3C/h3%3E%0A%20%20%20%20%20%20%20%20%20%20%20%20%20%0A%20%20%20%20%0A%20%20%20%20%20%20%20%20%20%20%20%20%3Cdiv%20class%3D%22folium-map%22%20id%3D%22map_9d81a5b389be41c1b44f4723798be1cc%22%20%3E%3C/div%3E%0A%20%20%20%20%20%20%20%20%0A%3C/body%3E%0A%3Cscript%3E%20%20%20%20%0A%20%20%20%20%0A%20%20%20%20%20%20%20%20%20%20%20%20var%20map_9d81a5b389be41c1b44f4723798be1cc%20%3D%20L.map%28%0A%20%20%20%20%20%20%20%20%20%20%20%20%20%20%20%20%22map_9d81a5b389be41c1b44f4723798be1cc%22%2C%0A%20%20%20%20%20%20%20%20%20%20%20%20%20%20%20%20%7B%0A%20%20%20%20%20%20%20%20%20%20%20%20%20%20%20%20%20%20%20%20center%3A%20%5B47.04303414444444%2C%20-31.562381211111113%5D%2C%0A%20%20%20%20%20%20%20%20%20%20%20%20%20%20%20%20%20%20%20%20crs%3A%20L.CRS.EPSG3857%2C%0A%20%20%20%20%20%20%20%20%20%20%20%20%20%20%20%20%20%20%20%20zoom%3A%202%2C%0A%20%20%20%20%20%20%20%20%20%20%20%20%20%20%20%20%20%20%20%20zoomControl%3A%20true%2C%0A%20%20%20%20%20%20%20%20%20%20%20%20%20%20%20%20%20%20%20%20preferCanvas%3A%20false%2C%0A%20%20%20%20%20%20%20%20%20%20%20%20%20%20%20%20%7D%0A%20%20%20%20%20%20%20%20%20%20%20%20%29%3B%0A%0A%20%20%20%20%20%20%20%20%20%20%20%20%0A%0A%20%20%20%20%20%20%20%20%0A%20%20%20%20%0A%20%20%20%20%20%20%20%20%20%20%20%20var%20tile_layer_91099c469c534b40ae1545743e3a6e0a%20%3D%20L.tileLayer%28%0A%20%20%20%20%20%20%20%20%20%20%20%20%20%20%20%20%22https%3A//stamen-tiles-%7Bs%7D.a.ssl.fastly.net/terrain/%7Bz%7D/%7Bx%7D/%7By%7D.jpg%22%2C%0A%20%20%20%20%20%20%20%20%20%20%20%20%20%20%20%20%7B%22attribution%22%3A%20%22Map%20tiles%20by%20%5Cu003ca%20href%3D%5C%22http%3A//stamen.com%5C%22%5Cu003eStamen%20Design%5Cu003c/a%5Cu003e%2C%20under%20%5Cu003ca%20href%3D%5C%22http%3A//creativecommons.org/licenses/by/3.0%5C%22%5Cu003eCC%20BY%203.0%5Cu003c/a%5Cu003e.%20Data%20by%20%5Cu0026copy%3B%20%5Cu003ca%20href%3D%5C%22http%3A//openstreetmap.org%5C%22%5Cu003eOpenStreetMap%5Cu003c/a%5Cu003e%2C%20under%20%5Cu003ca%20href%3D%5C%22http%3A//creativecommons.org/licenses/by-sa/3.0%5C%22%5Cu003eCC%20BY%20SA%5Cu003c/a%5Cu003e.%22%2C%20%22detectRetina%22%3A%20false%2C%20%22maxNativeZoom%22%3A%2018%2C%20%22maxZoom%22%3A%2018%2C%20%22minZoom%22%3A%200%2C%20%22noWrap%22%3A%20false%2C%20%22opacity%22%3A%201%2C%20%22subdomains%22%3A%20%22abc%22%2C%20%22tms%22%3A%20false%7D%0A%20%20%20%20%20%20%20%20%20%20%20%20%29.addTo%28map_9d81a5b389be41c1b44f4723798be1cc%29%3B%0A%20%20%20%20%20%20%20%20%0A%20%20%20%20%0A%20%20%20%20%20%20%20%20%20%20%20%20var%20marker_cluster_5238daedd154491184b576031aa2afcc%20%3D%20L.markerClusterGroup%28%0A%20%20%20%20%20%20%20%20%20%20%20%20%20%20%20%20%7B%7D%0A%20%20%20%20%20%20%20%20%20%20%20%20%29%3B%0A%20%20%20%20%20%20%20%20%20%20%20%20map_9d81a5b389be41c1b44f4723798be1cc.addLayer%28marker_cluster_5238daedd154491184b576031aa2afcc%29%3B%0A%20%20%20%20%20%20%20%20%0A%20%20%20%20%0A%20%20%20%20%20%20%20%20%20%20%20%20var%20marker_c03b652902b344fcb68fe548df1de7be%20%3D%20L.marker%28%0A%20%20%20%20%20%20%20%20%20%20%20%20%20%20%20%20%5B40.0149856%2C%20-105.2705456%5D%2C%0A%20%20%20%20%20%20%20%20%20%20%20%20%20%20%20%20%7B%7D%0A%20%20%20%20%20%20%20%20%20%20%20%20%29.addTo%28marker_cluster_5238daedd154491184b576031aa2afcc%29%3B%0A%20%20%20%20%20%20%20%20%0A%20%20%20%20%0A%20%20%20%20%20%20%20%20%20%20%20%20marker_c03b652902b344fcb68fe548df1de7be.bindTooltip%28%0A%20%20%20%20%20%20%20%20%20%20%20%20%20%20%20%20%60%3Cdiv%3E%0A%20%20%20%20%20%20%20%20%20%20%20%20%20%20%20%20%20%20%20%20%20%3Cstrong%3EBoulder%20Colorado%3C/strong%3E%3Cbr%3E%20%20%20%20%3Cstrong%3E---------%3C/strong%3E%3Cbr%3E%20%20%20%20%3Cstrong%3EA%20place%20to%20visit%3C/strong%3E%0A%20%20%20%20%20%20%20%20%20%20%20%20%20%20%20%20%20%3C/div%3E%60%2C%0A%20%20%20%20%20%20%20%20%20%20%20%20%20%20%20%20%7B%22sticky%22%3A%20true%7D%0A%20%20%20%20%20%20%20%20%20%20%20%20%29%3B%0A%20%20%20%20%20%20%20%20%0A%20%20%20%20%0A%20%20%20%20%20%20%20%20%20%20%20%20var%20marker_22455b85d85046aeb5ac5815aca9321a%20%3D%20L.marker%28%0A%20%20%20%20%20%20%20%20%20%20%20%20%20%20%20%20%5B40.0378755%2C%20-76.3055144%5D%2C%0A%20%20%20%20%20%20%20%20%20%20%20%20%20%20%20%20%7B%7D%0A%20%20%20%20%20%20%20%20%20%20%20%20%29.addTo%28marker_cluster_5238daedd154491184b576031aa2afcc%29%3B%0A%20%20%20%20%20%20%20%20%0A%20%20%20%20%0A%20%20%20%20%20%20%20%20%20%20%20%20marker_22455b85d85046aeb5ac5815aca9321a.bindTooltip%28%0A%20%20%20%20%20%20%20%20%20%20%20%20%20%20%20%20%60%3Cdiv%3E%0A%20%20%20%20%20%20%20%20%20%20%20%20%20%20%20%20%20%20%20%20%20%3Cstrong%3ELancaster%2C%20Pa.%3C/strong%3E%3Cbr%3E%20%20%20%20%3Cstrong%3E---------%3C/strong%3E%3Cbr%3E%20%20%20%20%3Cstrong%3EThere%27s%20good%20dancing%20here%3C/strong%3E%0A%20%20%20%20%20%20%20%20%20%20%20%20%20%20%20%20%20%3C/div%3E%60%2C%0A%20%20%20%20%20%20%20%20%20%20%20%20%20%20%20%20%7B%22sticky%22%3A%20true%7D%0A%20%20%20%20%20%20%20%20%20%20%20%20%29%3B%0A%20%20%20%20%20%20%20%20%0A%20%20%20%20%0A%20%20%20%20%20%20%20%20%20%20%20%20var%20marker_2225f0d3e87249bf94ef1da89f706f75%20%3D%20L.marker%28%0A%20%20%20%20%20%20%20%20%20%20%20%20%20%20%20%20%5B52.6996388%2C%20-3.9088055%5D%2C%0A%20%20%20%20%20%20%20%20%20%20%20%20%20%20%20%20%7B%7D%0A%20%20%20%20%20%20%20%20%20%20%20%20%29.addTo%28marker_cluster_5238daedd154491184b576031aa2afcc%29%3B%0A%20%20%20%20%20%20%20%20%0A%20%20%20%20%0A%20%20%20%20%20%20%20%20%20%20%20%20marker_2225f0d3e87249bf94ef1da89f706f75.bindTooltip%28%0A%20%20%20%20%20%20%20%20%20%20%20%20%20%20%20%20%60%3Cdiv%3E%0A%20%20%20%20%20%20%20%20%20%20%20%20%20%20%20%20%20%20%20%20%20%3Cstrong%3ECadair%20Idris%20-%20Penygadair%2C%20Dolgellau%2C%20UK%3C/strong%3E%3Cbr%3E%20%20%20%20%3Cstrong%3E---------%3C/strong%3E%3Cbr%3E%20%20%20%20%3Cstrong%3EScenic%20gentle%20hiking%20and%20camping%3C/strong%3E%0A%20%20%20%20%20%20%20%20%20%20%20%20%20%20%20%20%20%3C/div%3E%60%2C%0A%20%20%20%20%20%20%20%20%20%20%20%20%20%20%20%20%7B%22sticky%22%3A%20true%7D%0A%20%20%20%20%20%20%20%20%20%20%20%20%29%3B%0A%20%20%20%20%20%20%20%20%0A%20%20%20%20%0A%20%20%20%20%20%20%20%20%20%20%20%20var%20marker_cce4d6aa46f2471bab8b350f12530847%20%3D%20L.marker%28%0A%20%20%20%20%20%20%20%20%20%20%20%20%20%20%20%20%5B52.696651%2C%20-4.054346%5D%2C%0A%20%20%20%20%20%20%20%20%20%20%20%20%20%20%20%20%7B%7D%0A%20%20%20%20%20%20%20%20%20%20%20%20%29.addTo%28marker_cluster_5238daedd154491184b576031aa2afcc%29%3B%0A%20%20%20%20%20%20%20%20%0A%20%20%20%20%0A%20%20%20%20%20%20%20%20%20%20%20%20marker_cce4d6aa46f2471bab8b350f12530847.bindTooltip%28%0A%20%20%20%20%20%20%20%20%20%20%20%20%20%20%20%20%60%3Cdiv%3E%0A%20%20%20%20%20%20%20%20%20%20%20%20%20%20%20%20%20%20%20%20%20%3Cstrong%3EFairbourne%2C%20UK%3C/strong%3E%3Cbr%3E%20%20%20%20%3Cstrong%3E---------%3C/strong%3E%3Cbr%3E%20%20%20%20%3Cstrong%3EA%20secret%20place%20that%27s%20been%20forgotten%3C/strong%3E%0A%20%20%20%20%20%20%20%20%20%20%20%20%20%20%20%20%20%3C/div%3E%60%2C%0A%20%20%20%20%20%20%20%20%20%20%20%20%20%20%20%20%7B%22sticky%22%3A%20true%7D%0A%20%20%20%20%20%20%20%20%20%20%20%20%29%3B%0A%20%20%20%20%20%20%20%20%0A%20%20%20%20%0A%20%20%20%20%20%20%20%20%20%20%20%20var%20marker_7238c6a40e8c4f63b56535503fd60e95%20%3D%20L.marker%28%0A%20%20%20%20%20%20%20%20%20%20%20%20%20%20%20%20%5B52.272222%2C%20-3.688889%5D%2C%0A%20%20%20%20%20%20%20%20%20%20%20%20%20%20%20%20%7B%7D%0A%20%20%20%20%20%20%20%20%20%20%20%20%29.addTo%28marker_cluster_5238daedd154491184b576031aa2afcc%29%3B%0A%20%20%20%20%20%20%20%20%0A%20%20%20%20%0A%20%20%20%20%20%20%20%20%20%20%20%20marker_7238c6a40e8c4f63b56535503fd60e95.bindTooltip%28%0A%20%20%20%20%20%20%20%20%20%20%20%20%20%20%20%20%60%3Cdiv%3E%0A%20%20%20%20%20%20%20%20%20%20%20%20%20%20%20%20%20%20%20%20%20%3Cstrong%3EElan%20Valley%20Reservoirs%2C%20Rhayader%2C%20UK%3C/strong%3E%3Cbr%3E%20%20%20%20%3Cstrong%3E---------%3C/strong%3E%3Cbr%3E%20%20%20%20%3Cstrong%3EWhere%20you%20and%20James%20%26%20got%20engaged%3C/strong%3E%0A%20%20%20%20%20%20%20%20%20%20%20%20%20%20%20%20%20%3C/div%3E%60%2C%0A%20%20%20%20%20%20%20%20%20%20%20%20%20%20%20%20%7B%22sticky%22%3A%20true%7D%0A%20%20%20%20%20%20%20%20%20%20%20%20%29%3B%0A%20%20%20%20%20%20%20%20%0A%20%20%20%20%0A%20%20%20%20%20%20%20%20%20%20%20%20var%20marker_cecc8e5ac7fa42fb89630621db9cf35b%20%3D%20L.marker%28%0A%20%20%20%20%20%20%20%20%20%20%20%20%20%20%20%20%5B53.0932155%2C%20-3.801704%5D%2C%0A%20%20%20%20%20%20%20%20%20%20%20%20%20%20%20%20%7B%7D%0A%20%20%20%20%20%20%20%20%20%20%20%20%29.addTo%28marker_cluster_5238daedd154491184b576031aa2afcc%29%3B%0A%20%20%20%20%20%20%20%20%0A%20%20%20%20%0A%20%20%20%20%20%20%20%20%20%20%20%20marker_cecc8e5ac7fa42fb89630621db9cf35b.bindTooltip%28%0A%20%20%20%20%20%20%20%20%20%20%20%20%20%20%20%20%60%3Cdiv%3E%0A%20%20%20%20%20%20%20%20%20%20%20%20%20%20%20%20%20%20%20%20%20%3Cstrong%3ESnowdonia%20National%20Park%2C%20Penrhyndeudraeth%2C%20UK%3C/strong%3E%3Cbr%3E%20%20%20%20%3Cstrong%3E---------%3C/strong%3E%3Cbr%3E%20%20%20%20%3Cstrong%3EWhat%20sounds%20like%20a%20wonderful%20place%20to%20visit%3C/strong%3E%0A%20%20%20%20%20%20%20%20%20%20%20%20%20%20%20%20%20%3C/div%3E%60%2C%0A%20%20%20%20%20%20%20%20%20%20%20%20%20%20%20%20%7B%22sticky%22%3A%20true%7D%0A%20%20%20%20%20%20%20%20%20%20%20%20%29%3B%0A%20%20%20%20%20%20%20%20%0A%20%20%20%20%0A%20%20%20%20%20%20%20%20%20%20%20%20var%20marker_c283309264af4cf0a014d79097d4c59f%20%3D%20L.marker%28%0A%20%20%20%20%20%20%20%20%20%20%20%20%20%20%20%20%5B52.03317999999999%2C%20-3.2659789%5D%2C%0A%20%20%20%20%20%20%20%20%20%20%20%20%20%20%20%20%7B%7D%0A%20%20%20%20%20%20%20%20%20%20%20%20%29.addTo%28marker_cluster_5238daedd154491184b576031aa2afcc%29%3B%0A%20%20%20%20%20%20%20%20%0A%20%20%20%20%0A%20%20%20%20%20%20%20%20%20%20%20%20marker_c283309264af4cf0a014d79097d4c59f.bindTooltip%28%0A%20%20%20%20%20%20%20%20%20%20%20%20%20%20%20%20%60%3Cdiv%3E%0A%20%20%20%20%20%20%20%20%20%20%20%20%20%20%20%20%20%20%20%20%20%3Cstrong%3ELlyswen%2C%20Brecon%2C%20UK%3C/strong%3E%3Cbr%3E%20%20%20%20%3Cstrong%3E---------%3C/strong%3E%3Cbr%3E%20%20%20%20%3Cstrong%3EYour%20current%20home%3C/strong%3E%0A%20%20%20%20%20%20%20%20%20%20%20%20%20%20%20%20%20%3C/div%3E%60%2C%0A%20%20%20%20%20%20%20%20%20%20%20%20%20%20%20%20%7B%22sticky%22%3A%20true%7D%0A%20%20%20%20%20%20%20%20%20%20%20%20%29%3B%0A%20%20%20%20%20%20%20%20%0A%20%20%20%20%0A%20%20%20%20%20%20%20%20%20%20%20%20var%20marker_5a6490331b1c4781a7b1db501497a1a7%20%3D%20L.marker%28%0A%20%20%20%20%20%20%20%20%20%20%20%20%20%20%20%20%5B51.9666667%2C%20-3.1166667%5D%2C%0A%20%20%20%20%20%20%20%20%20%20%20%20%20%20%20%20%7B%7D%0A%20%20%20%20%20%20%20%20%20%20%20%20%29.addTo%28marker_cluster_5238daedd154491184b576031aa2afcc%29%3B%0A%20%20%20%20%20%20%20%20%0A%20%20%20%20%0A%20%20%20%20%20%20%20%20%20%20%20%20marker_5a6490331b1c4781a7b1db501497a1a7.bindTooltip%28%0A%20%20%20%20%20%20%20%20%20%20%20%20%20%20%20%20%60%3Cdiv%3E%0A%20%20%20%20%20%20%20%20%20%20%20%20%20%20%20%20%20%20%20%20%20%3Cstrong%3EBlack%20Mountains%2C%20Wales%2C%20Abergavenny%2C%20UK%3C/strong%3E%3Cbr%3E%20%20%20%20%3Cstrong%3E---------%3C/strong%3E%3Cbr%3E%20%20%20%20%3Cstrong%3EBeautiful%20background%20scenery%3C/strong%3E%0A%20%20%20%20%20%20%20%20%20%20%20%20%20%20%20%20%20%3C/div%3E%60%2C%0A%20%20%20%20%20%20%20%20%20%20%20%20%20%20%20%20%7B%22sticky%22%3A%20true%7D%0A%20%20%20%20%20%20%20%20%20%20%20%20%29%3B%0A%20%20%20%20%20%20%20%20%0A%20%20%20%20%0A%20%20%20%20%20%20%20%20%20%20%20%20var%20marker_86ff8caf90b04605a0000daf9d9e483f%20%3D%20L.marker%28%0A%20%20%20%20%20%20%20%20%20%20%20%20%20%20%20%20%5B28.5728722%2C%20-80.64898079999999%5D%2C%0A%20%20%20%20%20%20%20%20%20%20%20%20%20%20%20%20%7B%7D%0A%20%20%20%20%20%20%20%20%20%20%20%20%29.addTo%28marker_cluster_5238daedd154491184b576031aa2afcc%29%3B%0A%20%20%20%20%20%20%20%20%0A%20%20%20%20%0A%20%20%20%20%20%20%20%20%20%20%20%20marker_86ff8caf90b04605a0000daf9d9e483f.bindTooltip%28%0A%20%20%20%20%20%20%20%20%20%20%20%20%20%20%20%20%60%3Cdiv%3E%0A%20%20%20%20%20%20%20%20%20%20%20%20%20%20%20%20%20%20%20%20%20%3Cstrong%3EKennedy%20Space%20Center%2C%20Florida%3C/strong%3E%3Cbr%3E%20%20%20%20%3Cstrong%3E---------%3C/strong%3E%3Cbr%3E%20%20%20%20%3Cstrong%3EA%20major%20science%20center%3C/strong%3E%0A%20%20%20%20%20%20%20%20%20%20%20%20%20%20%20%20%20%3C/div%3E%60%2C%0A%20%20%20%20%20%20%20%20%20%20%20%20%20%20%20%20%7B%22sticky%22%3A%20true%7D%0A%20%20%20%20%20%20%20%20%20%20%20%20%29%3B%0A%20%20%20%20%20%20%20%20%0A%3C/script%3E onload=\"this.contentDocument.open();this.contentDocument.write(    decodeURIComponent(this.getAttribute('data-html')));this.contentDocument.close();\" allowfullscreen webkitallowfullscreen mozallowfullscreen></iframe></div></div>"
      ],
      "text/plain": [
       "<folium.folium.Map at 0x2c85c957ee0>"
      ]
     },
     "execution_count": 58,
     "metadata": {},
     "output_type": "execute_result"
    }
   ],
   "source": [
    "import folium\n",
    "from folium.plugins import MarkerCluster\n",
    "\n",
    "m = folium.Map(location=df[[\"lat\", \"lon\"]].mean().to_list(), tiles='Stamen Terrain', zoom_start=2)\n",
    "title_html = '''\n",
    "              <h3 align=\"center\" style=\"font-size:16px\"><b>{}</b></h3>\n",
    "             '''.format(f'Some of the places we\\'ve talked about...')\n",
    "\n",
    "marker_cluster = MarkerCluster().add_to(m)\n",
    "\n",
    "for i,r in df.iterrows():\n",
    "    location = (r[\"lat\"], r[\"lon\"])\n",
    "    info = (r['label'],r['location'],'---------')\n",
    "    info = list(info)\n",
    "    new_line = '<br>'\n",
    "    bold_start = '<strong>'\n",
    "    bold_end = '</strong>'\n",
    "    text = f'{bold_start}{info[1]}{bold_end}{new_line}\\\n",
    "    {bold_start}{info[2]}{bold_end}{new_line}\\\n",
    "    {bold_start}{info[0]}{bold_end}'\n",
    "    \n",
    "    folium.Marker(location=location,tooltip=text\n",
    "                      ).add_to(marker_cluster)\n",
    "\n",
    "m.get_root().html.add_child(folium.Element(title_html))\n",
    "\n",
    "m"
   ]
  },
  {
   "cell_type": "code",
   "execution_count": 60,
   "metadata": {},
   "outputs": [],
   "source": [
    "m.save('index.html')"
   ]
  },
  {
   "cell_type": "code",
   "execution_count": null,
   "metadata": {},
   "outputs": [],
   "source": []
  }
 ],
 "metadata": {
  "kernelspec": {
   "display_name": "Python 3",
   "language": "python",
   "name": "python3"
  },
  "language_info": {
   "codemirror_mode": {
    "name": "ipython",
    "version": 3
   },
   "file_extension": ".py",
   "mimetype": "text/x-python",
   "name": "python",
   "nbconvert_exporter": "python",
   "pygments_lexer": "ipython3",
   "version": "3.8.6"
  },
  "toc": {
   "base_numbering": 1,
   "nav_menu": {},
   "number_sections": true,
   "sideBar": true,
   "skip_h1_title": false,
   "title_cell": "Table of Contents",
   "title_sidebar": "Contents",
   "toc_cell": false,
   "toc_position": {},
   "toc_section_display": true,
   "toc_window_display": false
  }
 },
 "nbformat": 4,
 "nbformat_minor": 4
}
